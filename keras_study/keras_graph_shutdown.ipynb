{
 "cells": [
  {
   "cell_type": "code",
   "execution_count": 1,
   "metadata": {},
   "outputs": [
    {
     "name": "stderr",
     "output_type": "stream",
     "text": [
      "Using TensorFlow backend.\n"
     ]
    }
   ],
   "source": [
    "# 0.  Package to use\n",
    "from keras.utils import np_utils\n",
    "from keras.datasets import mnist\n",
    "from keras.models import Sequential\n",
    "from keras.layers import Dense, Activation\n",
    "import numpy as np\n",
    "import pandas as pd"
   ]
  },
  {
   "cell_type": "code",
   "execution_count": 2,
   "metadata": {},
   "outputs": [],
   "source": [
    "np.random.seed(3)"
   ]
  },
  {
   "cell_type": "code",
   "execution_count": 3,
   "metadata": {},
   "outputs": [],
   "source": [
    "# 1. Data set\n",
    "\n",
    "# Trainging set & Test set\n",
    "(x_train,y_train), (x_test,y_test) = mnist.load_data()"
   ]
  },
  {
   "cell_type": "code",
   "execution_count": 4,
   "metadata": {},
   "outputs": [],
   "source": [
    "# Separate Training set &  Verification set\n",
    "x_val = x_train[50000:]\n",
    "y_val = y_train[50000:]\n",
    "x_train = x_train[:50000]\n",
    "y_train = y_train[:50000]"
   ]
  },
  {
   "cell_type": "code",
   "execution_count": 5,
   "metadata": {},
   "outputs": [],
   "source": [
    "# Data set processing\n",
    "x_train = x_train.reshape(50000,784).astype('float32') / 255.0\n",
    "x_val = x_val.reshape(10000,784).astype('float32') / 255.0\n",
    "x_test = x_test.reshape(10000,784).astype('float32') / 255.0"
   ]
  },
  {
   "cell_type": "code",
   "execution_count": 6,
   "metadata": {},
   "outputs": [],
   "source": [
    "# Choose Trainin set & Verification set\n",
    "train_rand_idxs = np.random.choice(50000,700)\n",
    "val_rand_idxs = np.random.choice(10000,300)\n",
    "x_train = x_train[train_rand_idxs]\n",
    "y_train = y_train[train_rand_idxs]\n",
    "x_val = x_val[val_rand_idxs]\n",
    "y_val = y_val[val_rand_idxs]"
   ]
  },
  {
   "cell_type": "code",
   "execution_count": 7,
   "metadata": {},
   "outputs": [],
   "source": [
    "# Label data One-hot encoding prcessing\n",
    "y_train = np_utils.to_categorical(y_train)\n",
    "y_val = np_utils.to_categorical(y_val)\n",
    "y_test = np_utils.to_categorical(y_test)"
   ]
  },
  {
   "cell_type": "code",
   "execution_count": 8,
   "metadata": {},
   "outputs": [
    {
     "name": "stdout",
     "output_type": "stream",
     "text": [
      "WARNING:tensorflow:From /Users/seodeoghyeon/virtual/ai/lib/python2.7/site-packages/keras/backend/tensorflow_backend.py:226: The name tf.placeholder is deprecated. Please use tf.compat.v1.placeholder instead.\n",
      "\n",
      "WARNING:tensorflow:From /Users/seodeoghyeon/virtual/ai/lib/python2.7/site-packages/keras/backend/tensorflow_backend.py:318: calling __init__ (from tensorflow.python.ops.init_ops) with dtype is deprecated and will be removed in a future version.\n",
      "Instructions for updating:\n",
      "Call initializer instance with the dtype argument instead of passing it to the constructor\n",
      "WARNING:tensorflow:From /Users/seodeoghyeon/virtual/ai/lib/python2.7/site-packages/keras/backend/tensorflow_backend.py:277: calling __init__ (from tensorflow.python.ops.init_ops) with dtype is deprecated and will be removed in a future version.\n",
      "Instructions for updating:\n",
      "Call initializer instance with the dtype argument instead of passing it to the constructor\n"
     ]
    }
   ],
   "source": [
    "# 2. Modeling\n",
    "model = Sequential()\n",
    "model.add(Dense(64, input_dim=28*28, activation='relu'))\n",
    "model.add(Dense(10, activation='softmax'))"
   ]
  },
  {
   "cell_type": "code",
   "execution_count": 9,
   "metadata": {},
   "outputs": [
    {
     "name": "stdout",
     "output_type": "stream",
     "text": [
      "WARNING:tensorflow:From /Users/seodeoghyeon/virtual/ai/lib/python2.7/site-packages/keras/optimizers.py:611: The name tf.train.Optimizer is deprecated. Please use tf.compat.v1.train.Optimizer instead.\n",
      "\n",
      "WARNING:tensorflow:From /Users/seodeoghyeon/virtual/ai/lib/python2.7/site-packages/keras/backend/tensorflow_backend.py:1444: calling reduce_sum_v1 (from tensorflow.python.ops.math_ops) with keep_dims is deprecated and will be removed in a future version.\n",
      "Instructions for updating:\n",
      "keep_dims is deprecated, use keepdims instead\n",
      "WARNING:tensorflow:From /Users/seodeoghyeon/virtual/ai/lib/python2.7/site-packages/keras/backend/tensorflow_backend.py:1448: The name tf.log is deprecated. Please use tf.math.log instead.\n",
      "\n"
     ]
    }
   ],
   "source": [
    "# 3. Model learning Process Setting\n",
    "model.compile(loss='categorical_crossentropy', optimizer='sgd',metrics=['accuracy'])"
   ]
  },
  {
   "cell_type": "markdown",
   "metadata": {},
   "source": [
    "순환신경망 모델인 경우는 fit 함수를 여러 번 호출하기 때문에 직접 콜백함수 만들어야함"
   ]
  },
  {
   "cell_type": "code",
   "execution_count": 13,
   "metadata": {},
   "outputs": [
    {
     "name": "stdout",
     "output_type": "stream",
     "text": [
      "Train on 700 samples, validate on 300 samples\n",
      "Epoch 1/3000\n",
      "700/700 [==============================] - 0s - loss: 0.3873 - acc: 0.9186 - val_loss: 0.5330 - val_acc: 0.8433\n",
      "Epoch 2/3000\n",
      "700/700 [==============================] - 0s - loss: 0.3642 - acc: 0.9257 - val_loss: 0.5128 - val_acc: 0.8567\n",
      "Epoch 3/3000\n",
      "700/700 [==============================] - 0s - loss: 0.3455 - acc: 0.9300 - val_loss: 0.5121 - val_acc: 0.8467\n",
      "Epoch 4/3000\n",
      "700/700 [==============================] - 0s - loss: 0.3298 - acc: 0.9286 - val_loss: 0.4988 - val_acc: 0.8533\n",
      "Epoch 5/3000\n",
      "700/700 [==============================] - 0s - loss: 0.3149 - acc: 0.9357 - val_loss: 0.4866 - val_acc: 0.8567\n",
      "Epoch 6/3000\n",
      "700/700 [==============================] - 0s - loss: 0.2998 - acc: 0.9400 - val_loss: 0.4844 - val_acc: 0.8533\n",
      "Epoch 7/3000\n",
      "700/700 [==============================] - 0s - loss: 0.2843 - acc: 0.9443 - val_loss: 0.4787 - val_acc: 0.8700\n",
      "Epoch 8/3000\n",
      "700/700 [==============================] - 0s - loss: 0.2761 - acc: 0.9457 - val_loss: 0.4721 - val_acc: 0.8667\n",
      "Epoch 9/3000\n",
      "700/700 [==============================] - 0s - loss: 0.2626 - acc: 0.9414 - val_loss: 0.4688 - val_acc: 0.8667\n",
      "Epoch 10/3000\n",
      "700/700 [==============================] - 0s - loss: 0.2508 - acc: 0.9529 - val_loss: 0.4665 - val_acc: 0.8633\n",
      "Epoch 11/3000\n",
      "700/700 [==============================] - 0s - loss: 0.2422 - acc: 0.9557 - val_loss: 0.4637 - val_acc: 0.8567\n",
      "Epoch 12/3000\n",
      "700/700 [==============================] - 0s - loss: 0.2326 - acc: 0.9586 - val_loss: 0.4634 - val_acc: 0.8600\n",
      "Epoch 13/3000\n",
      "700/700 [==============================] - 0s - loss: 0.2241 - acc: 0.9643 - val_loss: 0.4578 - val_acc: 0.8567\n",
      "Epoch 14/3000\n",
      "700/700 [==============================] - 0s - loss: 0.2149 - acc: 0.9629 - val_loss: 0.4542 - val_acc: 0.8633\n",
      "Epoch 15/3000\n",
      "700/700 [==============================] - 0s - loss: 0.2073 - acc: 0.9629 - val_loss: 0.4566 - val_acc: 0.8633\n",
      "Epoch 16/3000\n",
      "700/700 [==============================] - 0s - loss: 0.2005 - acc: 0.9643 - val_loss: 0.4545 - val_acc: 0.8600\n",
      "Epoch 17/3000\n",
      "700/700 [==============================] - 0s - loss: 0.1930 - acc: 0.9657 - val_loss: 0.4496 - val_acc: 0.8633\n",
      "Epoch 18/3000\n",
      "700/700 [==============================] - 0s - loss: 0.1863 - acc: 0.9729 - val_loss: 0.4563 - val_acc: 0.8533\n",
      "Epoch 19/3000\n",
      "700/700 [==============================] - 0s - loss: 0.1792 - acc: 0.9714 - val_loss: 0.4563 - val_acc: 0.8567\n",
      "Epoch 20/3000\n",
      "700/700 [==============================] - 0s - loss: 0.1738 - acc: 0.9729 - val_loss: 0.4544 - val_acc: 0.8567\n",
      "Epoch 21/3000\n",
      "700/700 [==============================] - 0s - loss: 0.1674 - acc: 0.9743 - val_loss: 0.4506 - val_acc: 0.8533\n",
      "Epoch 22/3000\n",
      "700/700 [==============================] - 0s - loss: 0.1625 - acc: 0.9757 - val_loss: 0.4495 - val_acc: 0.8567\n",
      "Epoch 23/3000\n",
      "700/700 [==============================] - 0s - loss: 0.1576 - acc: 0.9729 - val_loss: 0.4489 - val_acc: 0.8633\n",
      "Epoch 24/3000\n",
      "700/700 [==============================] - 0s - loss: 0.1520 - acc: 0.9786 - val_loss: 0.4460 - val_acc: 0.8633\n",
      "Epoch 25/3000\n",
      "700/700 [==============================] - 0s - loss: 0.1475 - acc: 0.9771 - val_loss: 0.4489 - val_acc: 0.8500\n",
      "Epoch 26/3000\n",
      "700/700 [==============================] - 0s - loss: 0.1433 - acc: 0.9800 - val_loss: 0.4532 - val_acc: 0.8567\n",
      "Epoch 27/3000\n",
      "700/700 [==============================] - 0s - loss: 0.1381 - acc: 0.9800 - val_loss: 0.4491 - val_acc: 0.8533\n",
      "Epoch 28/3000\n",
      "700/700 [==============================] - 0s - loss: 0.1343 - acc: 0.9800 - val_loss: 0.4480 - val_acc: 0.8600\n",
      "Epoch 29/3000\n",
      "700/700 [==============================] - 0s - loss: 0.1294 - acc: 0.9829 - val_loss: 0.4455 - val_acc: 0.8567\n",
      "Epoch 30/3000\n",
      "700/700 [==============================] - 0s - loss: 0.1255 - acc: 0.9814 - val_loss: 0.4490 - val_acc: 0.8533\n",
      "Epoch 31/3000\n",
      "700/700 [==============================] - 0s - loss: 0.1225 - acc: 0.9814 - val_loss: 0.4514 - val_acc: 0.8600\n",
      "Epoch 32/3000\n",
      "700/700 [==============================] - 0s - loss: 0.1189 - acc: 0.9843 - val_loss: 0.4525 - val_acc: 0.8600\n",
      "Epoch 33/3000\n",
      "700/700 [==============================] - 0s - loss: 0.1153 - acc: 0.9829 - val_loss: 0.4483 - val_acc: 0.8567\n",
      "Epoch 34/3000\n",
      "700/700 [==============================] - 0s - loss: 0.1124 - acc: 0.9843 - val_loss: 0.4539 - val_acc: 0.8633\n",
      "Epoch 35/3000\n",
      "700/700 [==============================] - 0s - loss: 0.1088 - acc: 0.9886 - val_loss: 0.4483 - val_acc: 0.8500\n",
      "Epoch 36/3000\n",
      "700/700 [==============================] - 0s - loss: 0.1052 - acc: 0.9914 - val_loss: 0.4493 - val_acc: 0.8600\n",
      "Epoch 37/3000\n",
      "700/700 [==============================] - 0s - loss: 0.1029 - acc: 0.9871 - val_loss: 0.4455 - val_acc: 0.8567\n",
      "Epoch 38/3000\n",
      "700/700 [==============================] - 0s - loss: 0.1007 - acc: 0.9886 - val_loss: 0.4529 - val_acc: 0.8600\n",
      "Epoch 39/3000\n",
      "700/700 [==============================] - 0s - loss: 0.0978 - acc: 0.9886 - val_loss: 0.4502 - val_acc: 0.8600\n",
      "Epoch 40/3000\n",
      "700/700 [==============================] - 0s - loss: 0.0953 - acc: 0.9886 - val_loss: 0.4501 - val_acc: 0.8600\n",
      "Epoch 41/3000\n",
      "700/700 [==============================] - 0s - loss: 0.0927 - acc: 0.9900 - val_loss: 0.4584 - val_acc: 0.8600\n",
      "Epoch 42/3000\n",
      "700/700 [==============================] - 0s - loss: 0.0902 - acc: 0.9900 - val_loss: 0.4465 - val_acc: 0.8567\n",
      "Epoch 43/3000\n",
      "700/700 [==============================] - 0s - loss: 0.0884 - acc: 0.9886 - val_loss: 0.4481 - val_acc: 0.8600\n",
      "Epoch 44/3000\n",
      "700/700 [==============================] - 0s - loss: 0.0860 - acc: 0.9900 - val_loss: 0.4471 - val_acc: 0.8633\n",
      "Epoch 45/3000\n",
      "700/700 [==============================] - 0s - loss: 0.0838 - acc: 0.9900 - val_loss: 0.4557 - val_acc: 0.8600\n",
      "Epoch 46/3000\n",
      "700/700 [==============================] - 0s - loss: 0.0821 - acc: 0.9914 - val_loss: 0.4542 - val_acc: 0.8633\n",
      "Epoch 47/3000\n",
      "700/700 [==============================] - 0s - loss: 0.0793 - acc: 0.9900 - val_loss: 0.4543 - val_acc: 0.8633\n",
      "Epoch 48/3000\n",
      "700/700 [==============================] - 0s - loss: 0.0781 - acc: 0.9929 - val_loss: 0.4565 - val_acc: 0.8667\n",
      "Epoch 49/3000\n",
      "700/700 [==============================] - 0s - loss: 0.0761 - acc: 0.9929 - val_loss: 0.4573 - val_acc: 0.8667\n",
      "Epoch 50/3000\n",
      "700/700 [==============================] - 0s - loss: 0.0743 - acc: 0.9943 - val_loss: 0.4550 - val_acc: 0.8700\n",
      "Epoch 51/3000\n",
      "700/700 [==============================] - 0s - loss: 0.0727 - acc: 0.9957 - val_loss: 0.4527 - val_acc: 0.8700\n",
      "Epoch 52/3000\n",
      "700/700 [==============================] - 0s - loss: 0.0712 - acc: 0.9929 - val_loss: 0.4600 - val_acc: 0.8667\n",
      "Epoch 53/3000\n",
      "700/700 [==============================] - 0s - loss: 0.0692 - acc: 0.9943 - val_loss: 0.4602 - val_acc: 0.8700\n",
      "Epoch 54/3000\n",
      "700/700 [==============================] - 0s - loss: 0.0677 - acc: 0.9971 - val_loss: 0.4601 - val_acc: 0.8700\n",
      "Epoch 55/3000\n",
      "700/700 [==============================] - 0s - loss: 0.0665 - acc: 0.9971 - val_loss: 0.4585 - val_acc: 0.8700\n",
      "Epoch 56/3000\n",
      "700/700 [==============================] - 0s - loss: 0.0645 - acc: 0.9971 - val_loss: 0.4587 - val_acc: 0.8667\n",
      "Epoch 57/3000\n",
      "700/700 [==============================] - 0s - loss: 0.0633 - acc: 0.9986 - val_loss: 0.4615 - val_acc: 0.8667\n",
      "Epoch 58/3000\n",
      "700/700 [==============================] - 0s - loss: 0.0619 - acc: 0.9986 - val_loss: 0.4609 - val_acc: 0.8700\n"
     ]
    }
   ],
   "source": [
    "# 4. Model learning 1000(range) x 1(epoch) 학습함 \n",
    "from keras.callbacks import EarlyStopping\n",
    "#early_stopping = EarlyStopping() # 증가 한 번만 해도 멈춤 -> 정확도가 좋다는 보장 없음\n",
    "early_stopping = EarlyStopping(patience = 20) # 증가하더라도 20번은 기다려보자\n",
    "# ModelCheckpoint() -> 매 에포크마다 학습된 가중치를 파일로 저장 가능\n",
    "hist = model.fit(x_train, y_train, nb_epoch=3000, batch_size=10, validation_data=(x_val,y_val), callbacks=[early_stopping])"
   ]
  },
  {
   "cell_type": "code",
   "execution_count": 14,
   "metadata": {},
   "outputs": [
    {
     "data": {
      "image/png": "[encoded data removed]",
      "text/plain": [
       "<Figure size 432x288 with 2 Axes>"
      ]
     },
     "metadata": {
      "needs_background": "light"
     },
     "output_type": "display_data"
    }
   ],
   "source": [
    "# 5. Looking learning processing(Have to use jupyter notebook)\n",
    "%matplotlib inline\n",
    "import matplotlib.pyplot as plt\n",
    "\n",
    "loss_ax = plt.subplot()\n",
    "\n",
    "acc_ax = loss_ax.twinx()\n",
    "\n",
    "loss_ax.plot(hist.history['loss'],'y',label='train loss')\n",
    "loss_ax.plot(hist.history['val_loss'],'r',label='val loss')\n",
    "\n",
    "acc_ax.plot(hist.history['acc'],'b',label='train acc')\n",
    "acc_ax.plot(hist.history['val_acc'],'g',label='val acc')\n",
    "\n",
    "loss_ax.set_xlabel('epoch')\n",
    "loss_ax.set_ylabel('loss')\n",
    "acc_ax.set_ylabel('accuracy')\n",
    "\n",
    "loss_ax.legend(loc='upper left')\n",
    "acc_ax.legend(loc='lower left')\n",
    "\n",
    "plt.show()"
   ]
  },
  {
   "cell_type": "code",
   "execution_count": 15,
   "metadata": {},
   "outputs": [
    {
     "name": "stdout",
     "output_type": "stream",
     "text": [
      " 9888/10000 [============================>.] - ETA: 0s\n",
      "loss : 0.40418981346488\n",
      "accuracy : 0.8799\n"
     ]
    }
   ],
   "source": [
    "# 6. Model Evaluate\n",
    "loss_and_metrics = model.evaluate(x_test, y_test, batch_size=32)\n",
    "\n",
    "print ''\n",
    "print 'loss : ' + str(loss_and_metrics[0])\n",
    "print 'accuracy : ' + str(loss_and_metrics[1])"
   ]
  },
  {
   "cell_type": "code",
   "execution_count": null,
   "metadata": {},
   "outputs": [],
   "source": []
  }
 ],
 "metadata": {
  "kernelspec": {
   "display_name": "Python 2",
   "language": "python",
   "name": "python2"
  },
  "language_info": {
   "codemirror_mode": {
    "name": "ipython",
    "version": 2
   },
   "file_extension": ".py",
   "mimetype": "text/x-python",
   "name": "python",
   "nbconvert_exporter": "python",
   "pygments_lexer": "ipython2",
   "version": "2.7.18"
  }
 },
 "nbformat": 4,
 "nbformat_minor": 2
}
