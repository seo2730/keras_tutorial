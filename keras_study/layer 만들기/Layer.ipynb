{
 "cells": [
  {
   "cell_type": "markdown",
   "metadata": {},
   "source": [
    "1. 인간의 신경계를 모사한 뉴런이야기<br>\n",
    "<br>\n",
    "axon(축삭돌기) :  팔처럼 몸체에서 뻗어나와 다른 뉴런의 수상돌기와 연결된다.<br>\n",
    "dendrite(수상돌기) : 다른 뉴런의 축삭돌기와 연결되며, 몸체에 나뭇가지 형태로 붙어 있다.<br>\n",
    "synapse(시냅스) : 축삭돌기와 수상돌기가 연결된 지점입니다. 여기서 한 뉴런이 다른 뉴런으로 신호를 전달한다.<br>\n",
    "<br>\n",
    "x0,x1,x2 : 입력되는 뉴런의 축삭돌기로부터 전달되는 신호의 양을 나타냄.<br>\n",
    "w0,w1,w2 : 시냅스의 강도, 즉 입력되는 뉴런의 영향력을 나타냄.<br>\n",
    "w0x0 + w1x1 + w2x2 :  입력되는 신호의 양과 해당 신호의 시냅스 강도가 곱해진 값의 합계를 나타냄<br>\n",
    "f : 최종 합계가 다른 뉴런에게 전달되는 신호의 양을 결정짓는 규칙 -> 활성화 함수라고 부름<br>\n",
    "<br>\n",
    "각 뉴런들은 하나의 신호가 출력되므로 두 개의 신호를 보내줄려면 두 개의 신호가 출력되게 뉴런을 2개를 만들어야 한다."
   ]
  },
  {
   "cell_type": "markdown",
   "metadata": {},
   "source": [
    "2. 입출력을 모두 연결해주는 Dense 레이어<br>\n",
    "<br>\n",
    "Dense 레이어 :  입력과 출력을 모두 연결해줌 ex) 입력 뉴런: 4개, 출력 뉴런 : 8개 -> 총 연결선 : 32개(4x8)<br>\n",
    "가중치 : 연결강도를 의미 -> 각 연결선에는 가중치가 포함되어 있음 ex) 연결선 = 가중치<br>\n",
    "\n",
    ">가중치가 높을수록 해당 입력 뉴런이 출력 뉴런에 미치는 영향이 크고, 낮을수록 미치는 영향이 작다.\n",
    "\n",
    ">Dense(8, input_dim=4, activation='relu')\n",
    "\n",
    "첫번째 인자 : 출력 뉴런의 수를 설정합니다.<br>\n",
    "input_dim : 입력 뉴런의 수를 설정합니다.<br>\n",
    "activation : 활성화 함수를 설정해줍니다.<br>\n",
    "\n",
    ">linear : 디폴트 값, 입력뉴런과 가중치로 계산된 결과값이 그대로 출력으로 나옴.<br>\n",
    ">relu : rectifier 함수, 은닉층에 주로 쓰임.<br>\n",
    ">sigmoid : 시그모이드 함수, 이진 분류 문제에서 출력층에 주로 쓰임<br>\n",
    ">softmax : 소프트맥스 함수, 다중 클래스 분류 문제에서 출력층에 주로 쓰임\n",
    "\n",
    "Dense 레이어는 입력 뉴런 수에 상관없이 출력 뉴런 수를 자유롭게 설정할 수 있기 때문에 출력층으로 많이 쓰인다.<br>\n",
    "<br>\n",
    "이진 분류 문제에서는 0과 1을 나타내는 출력 뉴런이 하나만 있으면 되기 때문에 아래 코드처럼 출력 뉴런이 1개이고, 입력 뉴런과 가중치를 계산한 값을 0에서 1 사이로 표현할 수 있는 sigmoid 사용한다.\n",
    "    \n",
    ">Dense(1, input_dim=3, activation='sigmoid')\n",
    "    \n",
    "다중 클래스 분류 문제에서는 클래스 수만큼 출력 뉴런이 필요하다.<br>\n",
    "만약 세 가지 분류한다면, 아래 코드처럼 출력 뉴런이 3개고 입력 뉴런과 가중치를 계산한 값을 각 클래스의 확률 개념으로 표현할 수 있는 활성화 함수인 softmax 함수를 사용한다.<br>\n",
    "\n",
    ">Dense(3, input_dim=4, activation='softmax') -> 3x4 = 12개의 시냅스 강도\n",
    "\n",
    "Dense 레이어는 보통 출력층 이전의 은닉층으로 많이 쓰인다.<br>\n",
    "영상이 아닌 수치자료 입력 시에는 입력층으로 많이 쓰인다.<br>\n",
    "이 때 많이 쓰이는 활성화 함수가 relu로 쓰인다. relu는 학습과정에서 역전파 시에 좋은 성능이 나오는 것으로 알려져 있다.<br>\n",
    "\n",
    ">Dense(4, input_dim=6, activation='relu')\n",
    "\n",
    "입력층이 아닐 때에는 이전층의 출력 뉴런 수를 알 수 없기 때문에 input_dim 지정하지 않아도 된다.<br>\n",
    "아래 코드를 보면, 입력층에만 input_dim를 정의하였고 이후 층에서는 input_dim을 지정하지 않아도 된다.<br>\n",
    "\n",
    ">model.add(Dense(8, input_dim=4, activation='relu'))<br>\n",
    ">model.add(Dense(6, activation='relu'))<br>\n",
    ">model.add(Dense(1, activation='sigmoid'))"
   ]
  },
  {
   "cell_type": "code",
   "execution_count": 1,
   "metadata": {},
   "outputs": [
    {
     "name": "stdout",
     "output_type": "stream",
     "text": [
      "WARNING:tensorflow:From /home/duckbe/virtual/ai/lib/python2.7/site-packages/keras/backend/tensorflow_backend.py:321: The name tf.placeholder is deprecated. Please use tf.compat.v1.placeholder instead.\n",
      "\n",
      "WARNING:tensorflow:From /home/duckbe/virtual/ai/lib/python2.7/site-packages/keras/backend/tensorflow_backend.py:634: calling __init__ (from tensorflow.python.ops.init_ops) with dtype is deprecated and will be removed in a future version.\n",
      "Instructions for updating:\n",
      "Call initializer instance with the dtype argument instead of passing it to the constructor\n",
      "WARNING:tensorflow:From /home/duckbe/virtual/ai/lib/python2.7/site-packages/keras/backend/tensorflow_backend.py:491: calling __init__ (from tensorflow.python.ops.init_ops) with dtype is deprecated and will be removed in a future version.\n",
      "Instructions for updating:\n",
      "Call initializer instance with the dtype argument instead of passing it to the constructor\n"
     ]
    }
   ],
   "source": [
    "from keras.models import Sequential\n",
    "from keras.layers import Dense\n",
    "\n",
    "model = Sequential()\n",
    "\n",
    "model.add(Dense(8, input_dim=4, activation='relu'))\n",
    "model.add(Dense(6, activation='relu'))\n",
    "model.add(Dense(1, activation='sigmoid'))"
   ]
  },
  {
   "cell_type": "code",
   "execution_count": 2,
   "metadata": {},
   "outputs": [
    {
     "data": {
      "image/svg+xml": [
       "<svg height=\"304pt\" viewBox=\"0.00 0.00 295.00 304.00\" width=\"295pt\" xmlns=\"http://www.w3.org/2000/svg\" xmlns:xlink=\"http://www.w3.org/1999/xlink\">\n",
       "<g class=\"graph\" id=\"graph0\" transform=\"scale(1 1) rotate(0) translate(4 300)\">\n",
       "<title>G</title>\n",
       "<polygon fill=\"white\" points=\"-4,4 -4,-300 291,-300 291,4 -4,4\" stroke=\"none\"/>\n",
       "<!-- 140694499888528 -->\n",
       "<g class=\"node\" id=\"node1\"><title>140694499888528</title>\n",
       "<polygon fill=\"none\" points=\"0,-249.5 0,-295.5 287,-295.5 287,-249.5 0,-249.5\" stroke=\"black\"/>\n",
       "<text font-family=\"Times,serif\" font-size=\"14.00\" text-anchor=\"middle\" x=\"81.5\" y=\"-268.8\">dense_input_1: InputLayer</text>\n",
       "<polyline fill=\"none\" points=\"163,-249.5 163,-295.5 \" stroke=\"black\"/>\n",
       "<text font-family=\"Times,serif\" font-size=\"14.00\" text-anchor=\"middle\" x=\"190.5\" y=\"-280.3\">input:</text>\n",
       "<polyline fill=\"none\" points=\"163,-272.5 218,-272.5 \" stroke=\"black\"/>\n",
       "<text font-family=\"Times,serif\" font-size=\"14.00\" text-anchor=\"middle\" x=\"190.5\" y=\"-257.3\">output:</text>\n",
       "<polyline fill=\"none\" points=\"218,-249.5 218,-295.5 \" stroke=\"black\"/>\n",
       "<text font-family=\"Times,serif\" font-size=\"14.00\" text-anchor=\"middle\" x=\"252.5\" y=\"-280.3\">(None, 4)</text>\n",
       "<polyline fill=\"none\" points=\"218,-272.5 287,-272.5 \" stroke=\"black\"/>\n",
       "<text font-family=\"Times,serif\" font-size=\"14.00\" text-anchor=\"middle\" x=\"252.5\" y=\"-257.3\">(None, 4)</text>\n",
       "</g>\n",
       "<!-- 140694499888656 -->\n",
       "<g class=\"node\" id=\"node2\"><title>140694499888656</title>\n",
       "<polygon fill=\"none\" points=\"30.5,-166.5 30.5,-212.5 256.5,-212.5 256.5,-166.5 30.5,-166.5\" stroke=\"black\"/>\n",
       "<text font-family=\"Times,serif\" font-size=\"14.00\" text-anchor=\"middle\" x=\"81.5\" y=\"-185.8\">dense_1: Dense</text>\n",
       "<polyline fill=\"none\" points=\"132.5,-166.5 132.5,-212.5 \" stroke=\"black\"/>\n",
       "<text font-family=\"Times,serif\" font-size=\"14.00\" text-anchor=\"middle\" x=\"160\" y=\"-197.3\">input:</text>\n",
       "<polyline fill=\"none\" points=\"132.5,-189.5 187.5,-189.5 \" stroke=\"black\"/>\n",
       "<text font-family=\"Times,serif\" font-size=\"14.00\" text-anchor=\"middle\" x=\"160\" y=\"-174.3\">output:</text>\n",
       "<polyline fill=\"none\" points=\"187.5,-166.5 187.5,-212.5 \" stroke=\"black\"/>\n",
       "<text font-family=\"Times,serif\" font-size=\"14.00\" text-anchor=\"middle\" x=\"222\" y=\"-197.3\">(None, 4)</text>\n",
       "<polyline fill=\"none\" points=\"187.5,-189.5 256.5,-189.5 \" stroke=\"black\"/>\n",
       "<text font-family=\"Times,serif\" font-size=\"14.00\" text-anchor=\"middle\" x=\"222\" y=\"-174.3\">(None, 8)</text>\n",
       "</g>\n",
       "<!-- 140694499888528&#45;&gt;140694499888656 -->\n",
       "<g class=\"edge\" id=\"edge1\"><title>140694499888528-&gt;140694499888656</title>\n",
       "<path d=\"M143.5,-249.366C143.5,-241.152 143.5,-231.658 143.5,-222.725\" fill=\"none\" stroke=\"black\"/>\n",
       "<polygon fill=\"black\" points=\"147,-222.607 143.5,-212.607 140,-222.607 147,-222.607\" stroke=\"black\"/>\n",
       "</g>\n",
       "<!-- 140694499663504 -->\n",
       "<g class=\"node\" id=\"node3\"><title>140694499663504</title>\n",
       "<polygon fill=\"none\" points=\"30.5,-83.5 30.5,-129.5 256.5,-129.5 256.5,-83.5 30.5,-83.5\" stroke=\"black\"/>\n",
       "<text font-family=\"Times,serif\" font-size=\"14.00\" text-anchor=\"middle\" x=\"81.5\" y=\"-102.8\">dense_2: Dense</text>\n",
       "<polyline fill=\"none\" points=\"132.5,-83.5 132.5,-129.5 \" stroke=\"black\"/>\n",
       "<text font-family=\"Times,serif\" font-size=\"14.00\" text-anchor=\"middle\" x=\"160\" y=\"-114.3\">input:</text>\n",
       "<polyline fill=\"none\" points=\"132.5,-106.5 187.5,-106.5 \" stroke=\"black\"/>\n",
       "<text font-family=\"Times,serif\" font-size=\"14.00\" text-anchor=\"middle\" x=\"160\" y=\"-91.3\">output:</text>\n",
       "<polyline fill=\"none\" points=\"187.5,-83.5 187.5,-129.5 \" stroke=\"black\"/>\n",
       "<text font-family=\"Times,serif\" font-size=\"14.00\" text-anchor=\"middle\" x=\"222\" y=\"-114.3\">(None, 8)</text>\n",
       "<polyline fill=\"none\" points=\"187.5,-106.5 256.5,-106.5 \" stroke=\"black\"/>\n",
       "<text font-family=\"Times,serif\" font-size=\"14.00\" text-anchor=\"middle\" x=\"222\" y=\"-91.3\">(None, 6)</text>\n",
       "</g>\n",
       "<!-- 140694499888656&#45;&gt;140694499663504 -->\n",
       "<g class=\"edge\" id=\"edge2\"><title>140694499888656-&gt;140694499663504</title>\n",
       "<path d=\"M143.5,-166.366C143.5,-158.152 143.5,-148.658 143.5,-139.725\" fill=\"none\" stroke=\"black\"/>\n",
       "<polygon fill=\"black\" points=\"147,-139.607 143.5,-129.607 140,-139.607 147,-139.607\" stroke=\"black\"/>\n",
       "</g>\n",
       "<!-- 140694499435984 -->\n",
       "<g class=\"node\" id=\"node4\"><title>140694499435984</title>\n",
       "<polygon fill=\"none\" points=\"30.5,-0.5 30.5,-46.5 256.5,-46.5 256.5,-0.5 30.5,-0.5\" stroke=\"black\"/>\n",
       "<text font-family=\"Times,serif\" font-size=\"14.00\" text-anchor=\"middle\" x=\"81.5\" y=\"-19.8\">dense_3: Dense</text>\n",
       "<polyline fill=\"none\" points=\"132.5,-0.5 132.5,-46.5 \" stroke=\"black\"/>\n",
       "<text font-family=\"Times,serif\" font-size=\"14.00\" text-anchor=\"middle\" x=\"160\" y=\"-31.3\">input:</text>\n",
       "<polyline fill=\"none\" points=\"132.5,-23.5 187.5,-23.5 \" stroke=\"black\"/>\n",
       "<text font-family=\"Times,serif\" font-size=\"14.00\" text-anchor=\"middle\" x=\"160\" y=\"-8.3\">output:</text>\n",
       "<polyline fill=\"none\" points=\"187.5,-0.5 187.5,-46.5 \" stroke=\"black\"/>\n",
       "<text font-family=\"Times,serif\" font-size=\"14.00\" text-anchor=\"middle\" x=\"222\" y=\"-31.3\">(None, 6)</text>\n",
       "<polyline fill=\"none\" points=\"187.5,-23.5 256.5,-23.5 \" stroke=\"black\"/>\n",
       "<text font-family=\"Times,serif\" font-size=\"14.00\" text-anchor=\"middle\" x=\"222\" y=\"-8.3\">(None, 1)</text>\n",
       "</g>\n",
       "<!-- 140694499663504&#45;&gt;140694499435984 -->\n",
       "<g class=\"edge\" id=\"edge3\"><title>140694499663504-&gt;140694499435984</title>\n",
       "<path d=\"M143.5,-83.3664C143.5,-75.1516 143.5,-65.6579 143.5,-56.7252\" fill=\"none\" stroke=\"black\"/>\n",
       "<polygon fill=\"black\" points=\"147,-56.6068 143.5,-46.6068 140,-56.6069 147,-56.6068\" stroke=\"black\"/>\n",
       "</g>\n",
       "</g>\n",
       "</svg>"
      ],
      "text/plain": [
       "<IPython.core.display.SVG object>"
      ]
     },
     "execution_count": 2,
     "metadata": {},
     "output_type": "execute_result"
    }
   ],
   "source": [
    "from IPython.display import SVG\n",
    "from keras.utils.visualize_util import model_to_dot\n",
    "\n",
    "%matplotlib inline\n",
    "\n",
    "SVG(model_to_dot(model, show_shapes=True).create(prog='dot', format='svg'))"
   ]
  },
  {
   "cell_type": "code",
   "execution_count": null,
   "metadata": {},
   "outputs": [],
   "source": []
  }
 ],
 "metadata": {
  "kernelspec": {
   "display_name": "Python 2",
   "language": "python",
   "name": "python2"
  },
  "language_info": {
   "codemirror_mode": {
    "name": "ipython",
    "version": 2
   },
   "file_extension": ".py",
   "mimetype": "text/x-python",
   "name": "python",
   "nbconvert_exporter": "python",
   "pygments_lexer": "ipython2",
   "version": "2.7.12"
  }
 },
 "nbformat": 4,
 "nbformat_minor": 2
}
