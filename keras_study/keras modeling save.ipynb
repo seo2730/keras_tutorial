{
 "cells": [
  {
   "cell_type": "code",
   "execution_count": 13,
   "metadata": {},
   "outputs": [],
   "source": [
    "# 0.  사용할 패키지 불러오기 (mnist : 손글씨)\n",
    "from keras.utils import np_utils\n",
    "from keras.datasets import mnist\n",
    "from keras.models import Sequential\n",
    "from keras.layers import Dense, Activation\n",
    "import numpy as np\n",
    "from numpy import argmax"
   ]
  },
  {
   "cell_type": "code",
   "execution_count": 14,
   "metadata": {},
   "outputs": [],
   "source": [
    "# 1. Dataset\n",
    "\n",
    "# 훈련셋과 시험셋 불러오기\n",
    "(x_train,y_train), (x_test,y_test) = mnist.load_data()\n",
    "\n",
    "#데이터셋 전처리\n",
    "x_train = x_train.reshape(60000,784).astype('float32') / 255.0\n",
    "x_test = x_test.reshape(10000,784).astype('float32') / 255.0\n",
    "\n",
    "# 원핫인코딩 (one-hot encoding) 처리\n",
    "y_train = np_utils.to_categorical(y_train)\n",
    "y_test = np_utils.to_categorical(y_test)\n",
    "\n",
    "# 훈련셋과 검증셋 분리\n",
    "x_val = x_train[42000:]\n",
    "x_train = x_train[:42000]\n",
    "y_val = y_train[42000:]\n",
    "y_train = y_train[:42000]"
   ]
  },
  {
   "cell_type": "code",
   "execution_count": 15,
   "metadata": {},
   "outputs": [],
   "source": [
    "# 2. 모델 구성하기\n",
    "model = Sequential()\n",
    "model.add(Dense(64, input_dim=28*28, activation='relu'))\n",
    "model.add(Dense(10, activation='softmax'))"
   ]
  },
  {
   "cell_type": "code",
   "execution_count": 16,
   "metadata": {},
   "outputs": [],
   "source": [
    "# 3. 모델 학습과정 설정하기\n",
    "model.compile(loss='categorical_crossentropy', optimizer='sgd',metrics=['accuracy'])"
   ]
  },
  {
   "cell_type": "code",
   "execution_count": 17,
   "metadata": {},
   "outputs": [
    {
     "name": "stdout",
     "output_type": "stream",
     "text": [
      "Train on 42000 samples, validate on 18000 samples\n",
      "Epoch 1/5\n",
      "42000/42000 [==============================] - 2s - loss: 0.7613 - acc: 0.8116 - val_loss: 0.4170 - val_acc: 0.8891\n",
      "Epoch 2/5\n",
      "42000/42000 [==============================] - 2s - loss: 0.3807 - acc: 0.8961 - val_loss: 0.3389 - val_acc: 0.9052\n",
      "Epoch 3/5\n",
      "42000/42000 [==============================] - 2s - loss: 0.3263 - acc: 0.9085 - val_loss: 0.3110 - val_acc: 0.9112\n",
      "Epoch 4/5\n",
      "42000/42000 [==============================] - 2s - loss: 0.2969 - acc: 0.9159 - val_loss: 0.2864 - val_acc: 0.9183\n",
      "Epoch 5/5\n",
      "42000/42000 [==============================] - 2s - loss: 0.2753 - acc: 0.9221 - val_loss: 0.2724 - val_acc: 0.9213\n"
     ]
    },
    {
     "data": {
      "text/plain": [
       "<keras.callbacks.History at 0x1408d7890>"
      ]
     },
     "execution_count": 17,
     "metadata": {},
     "output_type": "execute_result"
    }
   ],
   "source": [
    "# 4. 모델 학습시키기\n",
    "model.fit(x_train, y_train, nb_epoch=5, batch_size=32,validation_data=(x_val,y_val))"
   ]
  },
  {
   "cell_type": "code",
   "execution_count": 18,
   "metadata": {},
   "outputs": [
    {
     "name": "stdout",
     "output_type": "stream",
     "text": [
      " 9888/10000 [============================>.] - ETA: 0s\n",
      "loss_and_metrics[0.26129537463188174, 0.9267]\n"
     ]
    }
   ],
   "source": [
    "# 5. 모델 평가하기\n",
    "loss_and_metrics = model.evaluate(x_test, y_test, batch_size=32)\n",
    "print ''\n",
    "print 'loss_and_metrics' + str(loss_and_metrics)"
   ]
  },
  {
   "cell_type": "code",
   "execution_count": 19,
   "metadata": {},
   "outputs": [],
   "source": [
    "# 6. 모델 저장하기\n",
    "from keras.models import load_model\n",
    "model.save('mnist_mlp_model.h5')"
   ]
  },
  {
   "cell_type": "markdown",
   "metadata": {},
   "source": [
    "저장된 파일에는 다음의 정보가 담겨져 있음<br>\n",
    "1. 나중에 모델을 재구성하기 위한 모델의 구성 정보\n",
    "2. 모델을 구성하는 각 뉴런들의 가중치\n",
    "3. 손실함수, 최적화하기 등의 학습 설정\n",
    "4. 재학습을 할 수 있도록 마지막 학습상태"
   ]
  },
  {
   "cell_type": "code",
   "execution_count": 24,
   "metadata": {},
   "outputs": [
    {
     "ename": "AttributeError",
     "evalue": "'module' object has no attribute 'find_graphviz'",
     "output_type": "error",
     "traceback": [
      "\u001b[0;31m---------------------------------------------------------------------------\u001b[0m",
      "\u001b[0;31mAttributeError\u001b[0m                            Traceback (most recent call last)",
      "\u001b[0;32m<ipython-input-24-2776c5e31cce>\u001b[0m in \u001b[0;36m<module>\u001b[0;34m()\u001b[0m\n\u001b[1;32m      1\u001b[0m \u001b[0;31m# 7. 모델 아키덱처 보기\u001b[0m\u001b[0;34m\u001b[0m\u001b[0;34m\u001b[0m\u001b[0m\n\u001b[1;32m      2\u001b[0m \u001b[0;32mfrom\u001b[0m \u001b[0mIPython\u001b[0m\u001b[0;34m.\u001b[0m\u001b[0mdisplay\u001b[0m \u001b[0;32mimport\u001b[0m \u001b[0mSVG\u001b[0m\u001b[0;34m\u001b[0m\u001b[0m\n\u001b[0;32m----> 3\u001b[0;31m \u001b[0;32mfrom\u001b[0m \u001b[0mkeras\u001b[0m\u001b[0;34m.\u001b[0m\u001b[0mutils\u001b[0m\u001b[0;34m.\u001b[0m\u001b[0mvisualize_util\u001b[0m \u001b[0;32mimport\u001b[0m \u001b[0mmodel_to_dot\u001b[0m\u001b[0;34m\u001b[0m\u001b[0m\n\u001b[0m\u001b[1;32m      4\u001b[0m \u001b[0;34m\u001b[0m\u001b[0m\n\u001b[1;32m      5\u001b[0m \u001b[0mget_ipython\u001b[0m\u001b[0;34m(\u001b[0m\u001b[0;34m)\u001b[0m\u001b[0;34m.\u001b[0m\u001b[0mmagic\u001b[0m\u001b[0;34m(\u001b[0m\u001b[0;34mu'matplotlib inline'\u001b[0m\u001b[0;34m)\u001b[0m\u001b[0;34m\u001b[0m\u001b[0m\n",
      "\u001b[0;32m/Users/seodeoghyeon/virtual/ai/lib/python2.7/site-packages/keras/utils/visualize_util.py\u001b[0m in \u001b[0;36m<module>\u001b[0;34m()\u001b[0m\n\u001b[1;32m     10\u001b[0m     \u001b[0;31m# fall back on pydot if necessary\u001b[0m\u001b[0;34m\u001b[0m\u001b[0;34m\u001b[0m\u001b[0m\n\u001b[1;32m     11\u001b[0m     \u001b[0;32mimport\u001b[0m \u001b[0mpydot\u001b[0m\u001b[0;34m\u001b[0m\u001b[0m\n\u001b[0;32m---> 12\u001b[0;31m \u001b[0;32mif\u001b[0m \u001b[0;32mnot\u001b[0m \u001b[0mpydot\u001b[0m\u001b[0;34m.\u001b[0m\u001b[0mfind_graphviz\u001b[0m\u001b[0;34m(\u001b[0m\u001b[0;34m)\u001b[0m\u001b[0;34m:\u001b[0m\u001b[0;34m\u001b[0m\u001b[0m\n\u001b[0m\u001b[1;32m     13\u001b[0m     raise RuntimeError('Failed to import pydot. You must install pydot'\n\u001b[1;32m     14\u001b[0m                        ' and graphviz for `pydotprint` to work.')\n",
      "\u001b[0;31mAttributeError\u001b[0m: 'module' object has no attribute 'find_graphviz'"
     ]
    }
   ],
   "source": [
    "# 7. 모델 아키덱처 보기(에러 찾아보자)\n",
    "from IPython.display import SVG\n",
    "from keras.utils.visualize_util import model_to_dot\n",
    "\n",
    "%matplotlib inline\n",
    "\n",
    "#SVG(model_to_dot(model, show_shapes=True).create(prog='dot', format='svg'))\n",
    "model_to_dot(model, to_file='model.png')"
   ]
  },
  {
   "cell_type": "markdown",
   "metadata": {},
   "source": [
    "모델 아키텍처는 model.to_json()와 model.to_yaml() 함수를 이용하여 json, yaml 형식의 파일로 저장 가능<br> \n",
    "<br>\n",
    "from models import model_from_json<br>\n",
    "json_string = model.to_json() # 모델 아키텍처를 json 형식으로 저장<br>\n",
    "model = model_from_json(json_string) # json 파일에서 모델 아키텍처 재구성<br>\n",
    "<br>\n",
    "from models import model_from_yaml<br>\n",
    "yaml_string = model.to_yaml() # 모델 아키텍처를 yaml 형식으로 저장<br>\n",
    "model = model_from_yaml(yaml_string) # yaml 파일에서 모델 아키텍처 재구성<br>\n"
   ]
  }
 ],
 "metadata": {
  "kernelspec": {
   "display_name": "Python 2",
   "language": "python",
   "name": "python2"
  },
  "language_info": {
   "codemirror_mode": {
    "name": "ipython",
    "version": 2
   },
   "file_extension": ".py",
   "mimetype": "text/x-python",
   "name": "python",
   "nbconvert_exporter": "python",
   "pygments_lexer": "ipython2",
   "version": "2.7.18"
  }
 },
 "nbformat": 4,
 "nbformat_minor": 2
}
