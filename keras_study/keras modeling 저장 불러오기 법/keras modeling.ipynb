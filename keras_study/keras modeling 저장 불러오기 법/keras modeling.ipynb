{
 "cells": [
  {
   "cell_type": "code",
   "execution_count": 1,
   "metadata": {},
   "outputs": [
    {
     "name": "stderr",
     "output_type": "stream",
     "text": [
      "Using TensorFlow backend.\n"
     ]
    }
   ],
   "source": [
    "# 0.  사용할 패키지 불러오기 (mnist : 손글씨)\n",
    "from keras.utils import np_utils\n",
    "from keras.datasets import mnist\n",
    "from keras.models import Sequential\n",
    "from keras.layers import Dense, Activation\n",
    "import numpy as np\n",
    "from numpy import argmax"
   ]
  },
  {
   "cell_type": "code",
   "execution_count": 2,
   "metadata": {},
   "outputs": [],
   "source": [
    "# 1. Dataset\n",
    "\n",
    "# 훈련셋과 시험셋 불러오기\n",
    "(x_train,y_train), (x_test,y_test) = mnist.load_data()\n",
    "\n",
    "#데이터셋 전처리\n",
    "x_train = x_train.reshape(60000,784).astype('float32') / 255.0\n",
    "x_test = x_test.reshape(10000,784).astype('float32') / 255.0\n",
    "\n",
    "# 원핫인코딩 (one-hot encoding) 처리\n",
    "y_train = np_utils.to_categorical(y_train)\n",
    "y_test = np_utils.to_categorical(y_test)\n",
    "\n",
    "# 훈련셋과 검증셋 분리\n",
    "x_val = x_train[42000:]\n",
    "x_train = x_train[:42000]\n",
    "y_val = y_train[42000:]\n",
    "y_train = y_train[:42000]"
   ]
  },
  {
   "cell_type": "code",
   "execution_count": 3,
   "metadata": {},
   "outputs": [
    {
     "name": "stdout",
     "output_type": "stream",
     "text": [
      "WARNING:tensorflow:From /home/duckbe/virtual/ai/lib/python2.7/site-packages/keras/backend/tensorflow_backend.py:321: The name tf.placeholder is deprecated. Please use tf.compat.v1.placeholder instead.\n",
      "\n",
      "WARNING:tensorflow:From /home/duckbe/virtual/ai/lib/python2.7/site-packages/keras/backend/tensorflow_backend.py:634: calling __init__ (from tensorflow.python.ops.init_ops) with dtype is deprecated and will be removed in a future version.\n",
      "Instructions for updating:\n",
      "Call initializer instance with the dtype argument instead of passing it to the constructor\n",
      "WARNING:tensorflow:From /home/duckbe/virtual/ai/lib/python2.7/site-packages/keras/backend/tensorflow_backend.py:491: calling __init__ (from tensorflow.python.ops.init_ops) with dtype is deprecated and will be removed in a future version.\n",
      "Instructions for updating:\n",
      "Call initializer instance with the dtype argument instead of passing it to the constructor\n"
     ]
    }
   ],
   "source": [
    "# 2. 모델 구성하기\n",
    "model = Sequential()\n",
    "model.add(Dense(64, input_dim=28*28, activation='relu'))\n",
    "model.add(Dense(10, activation='softmax'))"
   ]
  },
  {
   "cell_type": "code",
   "execution_count": 4,
   "metadata": {},
   "outputs": [
    {
     "name": "stdout",
     "output_type": "stream",
     "text": [
      "WARNING:tensorflow:From /home/duckbe/virtual/ai/lib/python2.7/site-packages/keras/optimizers.py:658: The name tf.train.Optimizer is deprecated. Please use tf.compat.v1.train.Optimizer instead.\n",
      "\n",
      "WARNING:tensorflow:From /home/duckbe/virtual/ai/lib/python2.7/site-packages/keras/backend/tensorflow_backend.py:2385: calling reduce_sum_v1 (from tensorflow.python.ops.math_ops) with keep_dims is deprecated and will be removed in a future version.\n",
      "Instructions for updating:\n",
      "keep_dims is deprecated, use keepdims instead\n",
      "WARNING:tensorflow:From /home/duckbe/virtual/ai/lib/python2.7/site-packages/keras/backend/tensorflow_backend.py:2389: The name tf.log is deprecated. Please use tf.math.log instead.\n",
      "\n"
     ]
    }
   ],
   "source": [
    "# 3. 모델 학습과정 설정하기\n",
    "model.compile(loss='categorical_crossentropy', optimizer='sgd',metrics=['accuracy'])"
   ]
  },
  {
   "cell_type": "code",
   "execution_count": 5,
   "metadata": {},
   "outputs": [
    {
     "name": "stdout",
     "output_type": "stream",
     "text": [
      "WARNING:tensorflow:From /home/duckbe/virtual/ai/lib/python2.7/site-packages/tensorflow/python/ops/math_grad.py:1250: where (from tensorflow.python.ops.array_ops) is deprecated and will be removed in a future version.\n",
      "Instructions for updating:\n",
      "Use tf.where in 2.0, which has the same broadcast rule as np.where\n",
      "WARNING:tensorflow:From /home/duckbe/virtual/ai/lib/python2.7/site-packages/keras/backend/tensorflow_backend.py:736: The name tf.assign is deprecated. Please use tf.compat.v1.assign instead.\n",
      "\n",
      "Train on 42000 samples, validate on 18000 samples\n",
      "Epoch 1/5\n",
      "WARNING:tensorflow:From /home/duckbe/virtual/ai/lib/python2.7/site-packages/keras/backend/tensorflow_backend.py:112: The name tf.get_default_session is deprecated. Please use tf.compat.v1.get_default_session instead.\n",
      "\n",
      "WARNING:tensorflow:From /home/duckbe/virtual/ai/lib/python2.7/site-packages/keras/backend/tensorflow_backend.py:117: The name tf.ConfigProto is deprecated. Please use tf.compat.v1.ConfigProto instead.\n",
      "\n",
      "42000/42000 [==============================] - 2s - loss: 0.8080 - acc: 0.8008 - val_loss: 0.4207 - val_acc: 0.8881\n",
      "Epoch 2/5\n",
      "42000/42000 [==============================] - 1s - loss: 0.3849 - acc: 0.8951 - val_loss: 0.3400 - val_acc: 0.9049\n",
      "Epoch 3/5\n",
      "42000/42000 [==============================] - 1s - loss: 0.3280 - acc: 0.9076 - val_loss: 0.3079 - val_acc: 0.9138\n",
      "Epoch 4/5\n",
      "42000/42000 [==============================] - 2s - loss: 0.2979 - acc: 0.9156 - val_loss: 0.2854 - val_acc: 0.9192\n",
      "Epoch 5/5\n",
      "42000/42000 [==============================] - 2s - loss: 0.2760 - acc: 0.9219 - val_loss: 0.2689 - val_acc: 0.9239\n"
     ]
    },
    {
     "data": {
      "text/plain": [
       "<keras.callbacks.History at 0x7f854600b690>"
      ]
     },
     "execution_count": 5,
     "metadata": {},
     "output_type": "execute_result"
    }
   ],
   "source": [
    "# 4. 모델 학습시키기\n",
    "model.fit(x_train, y_train, nb_epoch=5, batch_size=32,validation_data=(x_val,y_val))"
   ]
  },
  {
   "cell_type": "code",
   "execution_count": 6,
   "metadata": {},
   "outputs": [
    {
     "name": "stdout",
     "output_type": "stream",
     "text": [
      " 9952/10000 [============================>.] - ETA: 0s\n",
      "loss_and_metrics[0.2603756044000387, 0.928]\n"
     ]
    }
   ],
   "source": [
    "# 5. 모델 평가하기\n",
    "loss_and_metrics = model.evaluate(x_test, y_test, batch_size=32)\n",
    "print ''\n",
    "print 'loss_and_metrics' + str(loss_and_metrics)"
   ]
  },
  {
   "cell_type": "code",
   "execution_count": 7,
   "metadata": {},
   "outputs": [
    {
     "name": "stdout",
     "output_type": "stream",
     "text": [
      "5/5 [==============================] - 0s\n",
      "True : 7, Predict : 7\n",
      "True : 7, Predict : 7\n",
      "True : 1, Predict : 1\n",
      "True : 4, Predict : 4\n",
      "True : 2, Predict : 2\n"
     ]
    }
   ],
   "source": [
    "# 6. 모델 사용하기\n",
    "xhat_idx = np.random.choice(x_test.shape[0],5)\n",
    "xhat = x_test[xhat_idx]\n",
    "yhat = model.predict_classes(xhat)\n",
    "\n",
    "for i in range(5):\n",
    "    print 'True : ' + str(argmax(y_test[xhat_idx[i]])) + ', Predict : ' + str(yhat[i]) "
   ]
  },
  {
   "cell_type": "markdown",
   "metadata": {},
   "source": [
    "5. 모델 평가하기까지  학습을 위한 과정\n",
    "6. 모델 사용하기 이후가 모델을 사용하는 부분<br>\n",
    "이 두개를 분리하여 별도의 모듈로 만들면 우리가 원하는 결과를 얻을 수 있다."
   ]
  }
 ],
 "metadata": {
  "kernelspec": {
   "display_name": "Python 2",
   "language": "python",
   "name": "python2"
  },
  "language_info": {
   "codemirror_mode": {
    "name": "ipython",
    "version": 2
   },
   "file_extension": ".py",
   "mimetype": "text/x-python",
   "name": "python",
   "nbconvert_exporter": "python",
   "pygments_lexer": "ipython2",
   "version": "2.7.12"
  }
 },
 "nbformat": 4,
 "nbformat_minor": 2
}
